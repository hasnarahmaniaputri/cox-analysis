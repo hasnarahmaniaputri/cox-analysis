{
 "cells": [
  {
   "cell_type": "markdown",
   "id": "11e4b3d2",
   "metadata": {},
   "source": [
    "## Cox Proportional Hazard"
   ]
  },
  {
   "cell_type": "markdown",
   "id": "07f4882f",
   "metadata": {},
   "source": [
    " The Cox PH model is usually written in terms of the hazard model:\n",
    " $$h(t,X)= h_0(t)  \\sum\\limits_{i=1}^{p} exp (β_{i} X_{i})$$"
   ]
  },
  {
   "cell_type": "markdown",
   "id": "6ff5e354",
   "metadata": {},
   "source": [
    "where the $h_0$ is the baseline hazard, and the dot product of $\\beta$ and $X$ is taken in the exponent just like in linear regression. An important feature of this formula which concerns PH assumption is that the baseline hazard is a function of $t$, but doesn't involve the $X$’s. The baseline hazard is property that makes the Cox model a semiparametric model.\n",
    "In contrast, a parametric model is one whose functional form is completely specified, but the results from using the Cox model will closely approximate the results for the correct parametric model. This is why the Cox PH model is so popular.\n",
    "\n",
    "In a nonparametric model, we make no assumptions about the functional form of $h$. The downside is this makes it hard to model any effects of covariates.     \n",
    "In a parametric model, we make an assumption for the precise functional form of $h$."
   ]
  },
  {
   "cell_type": "markdown",
   "id": "828c7912",
   "metadata": {},
   "source": [
    "#### When should we use a semiparametric model and a parametric model?"
   ]
  },
  {
   "cell_type": "markdown",
   "id": "72f7c7c6",
   "metadata": {},
   "source": [
    "We could use a parametric model if we were sure of the correct model by using a specified probability distribution. In certain contexts, there may be reasons to believe a parametric model is a good fit, but with several options available, there is a strong risk of drawing incorrect conclusions due to misspecification of the model. Thus when in doubt, the Cox model is a safe choice.\n",
    "\n",
    "#### Cox PH Assumption\n",
    "\n",
    "The PH assumption is the hazard ratio for the two groups should remain proportional, which means that the hazard ratio is constant over time. The most popular graphical techniques for evaluating the PH assumption involves comparing estimated the log-log survival curves or Kaplan-Meier curves. If the graph of the hazard/survival cross for two or more categories of a predictor, the PH assumption is not met. However, althought the functions do not cross, it is possible that the PH assumption is not met."
   ]
  },
  {
   "cell_type": "markdown",
   "id": "43e5264d",
   "metadata": {},
   "source": [
    "### Libraries"
   ]
  },
  {
   "cell_type": "code",
   "execution_count": 1,
   "id": "339f88d4",
   "metadata": {},
   "outputs": [
    {
     "name": "stderr",
     "output_type": "stream",
     "text": [
      "Warning message:\n",
      "\"package 'survival' was built under R version 3.6.3\""
     ]
    }
   ],
   "source": [
    "library(survival)"
   ]
  },
  {
   "cell_type": "code",
   "execution_count": 2,
   "id": "13a67d1d",
   "metadata": {},
   "outputs": [],
   "source": [
    "library(KMsurv)"
   ]
  },
  {
   "cell_type": "markdown",
   "id": "22d95b6f",
   "metadata": {},
   "source": [
    "### Data"
   ]
  },
  {
   "cell_type": "markdown",
   "id": "905ed028",
   "metadata": {},
   "source": [
    "In this repository, I'll be using Cox regression to analyze the dataset of 154 burn patients. The dataset was originally collected in: https://search.r-project.org/CRAN/refmans/GPLTR/html/burn.html"
   ]
  },
  {
   "cell_type": "code",
   "execution_count": 3,
   "id": "bbd549fd",
   "metadata": {},
   "outputs": [],
   "source": [
    "data(burn)"
   ]
  },
  {
   "cell_type": "code",
   "execution_count": 4,
   "id": "4f64e25b",
   "metadata": {},
   "outputs": [
    {
     "data": {
      "text/html": [
       "<table>\n",
       "<thead><tr><th scope=col>Obs</th><th scope=col>Z1</th><th scope=col>Z2</th><th scope=col>Z3</th><th scope=col>Z4</th><th scope=col>Z5</th><th scope=col>Z6</th><th scope=col>Z7</th><th scope=col>Z8</th><th scope=col>Z9</th><th scope=col>Z10</th><th scope=col>Z11</th><th scope=col>T1</th><th scope=col>D1</th><th scope=col>T2</th><th scope=col>D2</th><th scope=col>T3</th><th scope=col>D3</th></tr></thead>\n",
       "<tbody>\n",
       "\t<tr><td>1 </td><td>0 </td><td>0 </td><td>0 </td><td>15</td><td>0 </td><td>0 </td><td>1 </td><td>1 </td><td>0 </td><td>0 </td><td>2 </td><td>12</td><td>0 </td><td>12</td><td>0 </td><td>12</td><td>0 </td></tr>\n",
       "\t<tr><td>2 </td><td>0 </td><td>0 </td><td>1 </td><td>20</td><td>0 </td><td>0 </td><td>1 </td><td>0 </td><td>0 </td><td>0 </td><td>4 </td><td> 9</td><td>0 </td><td> 9</td><td>0 </td><td> 9</td><td>0 </td></tr>\n",
       "\t<tr><td>3 </td><td>0 </td><td>0 </td><td>1 </td><td>15</td><td>0 </td><td>0 </td><td>0 </td><td>1 </td><td>1 </td><td>0 </td><td>2 </td><td>13</td><td>0 </td><td>13</td><td>0 </td><td> 7</td><td>1 </td></tr>\n",
       "\t<tr><td>4 </td><td>0 </td><td>0 </td><td>0 </td><td>20</td><td>1 </td><td>0 </td><td>1 </td><td>0 </td><td>0 </td><td>0 </td><td>2 </td><td>11</td><td>1 </td><td>29</td><td>0 </td><td>29</td><td>0 </td></tr>\n",
       "\t<tr><td>5 </td><td>0 </td><td>0 </td><td>1 </td><td>70</td><td>1 </td><td>1 </td><td>1 </td><td>1 </td><td>0 </td><td>0 </td><td>2 </td><td>28</td><td>1 </td><td>31</td><td>0 </td><td> 4</td><td>1 </td></tr>\n",
       "\t<tr><td>6 </td><td>0 </td><td>0 </td><td>1 </td><td>20</td><td>1 </td><td>0 </td><td>1 </td><td>0 </td><td>0 </td><td>0 </td><td>4 </td><td>11</td><td>0 </td><td>11</td><td>0 </td><td> 8</td><td>1 </td></tr>\n",
       "</tbody>\n",
       "</table>\n"
      ],
      "text/latex": [
       "\\begin{tabular}{r|llllllllllllllllll}\n",
       " Obs & Z1 & Z2 & Z3 & Z4 & Z5 & Z6 & Z7 & Z8 & Z9 & Z10 & Z11 & T1 & D1 & T2 & D2 & T3 & D3\\\\\n",
       "\\hline\n",
       "\t 1  & 0  & 0  & 0  & 15 & 0  & 0  & 1  & 1  & 0  & 0  & 2  & 12 & 0  & 12 & 0  & 12 & 0 \\\\\n",
       "\t 2  & 0  & 0  & 1  & 20 & 0  & 0  & 1  & 0  & 0  & 0  & 4  &  9 & 0  &  9 & 0  &  9 & 0 \\\\\n",
       "\t 3  & 0  & 0  & 1  & 15 & 0  & 0  & 0  & 1  & 1  & 0  & 2  & 13 & 0  & 13 & 0  &  7 & 1 \\\\\n",
       "\t 4  & 0  & 0  & 0  & 20 & 1  & 0  & 1  & 0  & 0  & 0  & 2  & 11 & 1  & 29 & 0  & 29 & 0 \\\\\n",
       "\t 5  & 0  & 0  & 1  & 70 & 1  & 1  & 1  & 1  & 0  & 0  & 2  & 28 & 1  & 31 & 0  &  4 & 1 \\\\\n",
       "\t 6  & 0  & 0  & 1  & 20 & 1  & 0  & 1  & 0  & 0  & 0  & 4  & 11 & 0  & 11 & 0  &  8 & 1 \\\\\n",
       "\\end{tabular}\n"
      ],
      "text/markdown": [
       "\n",
       "| Obs | Z1 | Z2 | Z3 | Z4 | Z5 | Z6 | Z7 | Z8 | Z9 | Z10 | Z11 | T1 | D1 | T2 | D2 | T3 | D3 |\n",
       "|---|---|---|---|---|---|---|---|---|---|---|---|---|---|---|---|---|---|\n",
       "| 1  | 0  | 0  | 0  | 15 | 0  | 0  | 1  | 1  | 0  | 0  | 2  | 12 | 0  | 12 | 0  | 12 | 0  |\n",
       "| 2  | 0  | 0  | 1  | 20 | 0  | 0  | 1  | 0  | 0  | 0  | 4  |  9 | 0  |  9 | 0  |  9 | 0  |\n",
       "| 3  | 0  | 0  | 1  | 15 | 0  | 0  | 0  | 1  | 1  | 0  | 2  | 13 | 0  | 13 | 0  |  7 | 1  |\n",
       "| 4  | 0  | 0  | 0  | 20 | 1  | 0  | 1  | 0  | 0  | 0  | 2  | 11 | 1  | 29 | 0  | 29 | 0  |\n",
       "| 5  | 0  | 0  | 1  | 70 | 1  | 1  | 1  | 1  | 0  | 0  | 2  | 28 | 1  | 31 | 0  |  4 | 1  |\n",
       "| 6  | 0  | 0  | 1  | 20 | 1  | 0  | 1  | 0  | 0  | 0  | 4  | 11 | 0  | 11 | 0  |  8 | 1  |\n",
       "\n"
      ],
      "text/plain": [
       "  Obs Z1 Z2 Z3 Z4 Z5 Z6 Z7 Z8 Z9 Z10 Z11 T1 D1 T2 D2 T3 D3\n",
       "1 1   0  0  0  15 0  0  1  1  0  0   2   12 0  12 0  12 0 \n",
       "2 2   0  0  1  20 0  0  1  0  0  0   4    9 0   9 0   9 0 \n",
       "3 3   0  0  1  15 0  0  0  1  1  0   2   13 0  13 0   7 1 \n",
       "4 4   0  0  0  20 1  0  1  0  0  0   2   11 1  29 0  29 0 \n",
       "5 5   0  0  1  70 1  1  1  1  0  0   2   28 1  31 0   4 1 \n",
       "6 6   0  0  1  20 1  0  1  0  0  0   4   11 0  11 0   8 1 "
      ]
     },
     "metadata": {},
     "output_type": "display_data"
    }
   ],
   "source": [
    "head(burn)"
   ]
  },
  {
   "cell_type": "markdown",
   "id": "11a14a98",
   "metadata": {},
   "source": [
    "### Explanation of Dataset\n",
    "\n",
    "Obs: Observation number\n",
    "\n",
    "Z1: Treatment (0=routine bathing, 1=body cleansing)\n",
    "\n",
    "Z2: Gender (0=male, 1=female)\n",
    "\n",
    "Z3: Race (0=nonwhite, 1=white)\n",
    "\n",
    "Z4: Percentage of total surface area burned\n",
    "\n",
    "Z5: Burn site indicator: (head 1=yes, 0=no)\n",
    "\n",
    "Z6: Burn site indicator: (buttock 1=yes, 0=no)\n",
    "\n",
    "Z7: Burn site indicator: (trunk 1=yes, 0=no)\n",
    "\n",
    "Z8: Burn site indicator: (upper leg 1=yes, 0=no)\n",
    "\n",
    "Z9: Burn site indicator: (lower leg 1=yes, 0=no)\n",
    "\n",
    "Z10: Burn site indicator: (respiratory tract 1=yes, 0=no)\n",
    "\n",
    "Z11: Type of burn: (1=chemical, 2=scald, 3=electric, 4=flame)\n",
    "\n",
    "T1: Time to excision or on study time\n",
    "\n",
    "D1: Excision indicator: (1=yes, 0=no)\n",
    "\n",
    "T2: Time to prophylactic antibiotic treatment or on study time\n",
    "\n",
    "D2: Prophylactic antibiotic treatment: (1=yes, 0=no)\n",
    "\n",
    "T3: Time to straphylocous aureaus infection or on study time\n",
    "\n",
    "D3: Straphylocous aureaus infection: (1=yes, 0=no)"
   ]
  },
  {
   "cell_type": "code",
   "execution_count": 6,
   "id": "4517922e",
   "metadata": {},
   "outputs": [
    {
     "data": {
      "text/plain": [
       "Call: survfit(formula = Surv(T1, D1) ~ Z11, data = burn)\n",
       "\n",
       "                Z11=1 \n",
       " time n.risk n.event survival std.err lower 95% CI upper 95% CI\n",
       "    1      9       1    0.889   0.105       0.7056        1.000\n",
       "    2      8       1    0.778   0.139       0.5485        1.000\n",
       "    3      7       1    0.667   0.157       0.4200        1.000\n",
       "    5      6       1    0.556   0.166       0.3097        0.997\n",
       "    8      5       1    0.444   0.166       0.2141        0.923\n",
       "   11      4       1    0.333   0.157       0.1323        0.840\n",
       "   14      2       1    0.167   0.142       0.0315        0.882\n",
       "\n",
       "                Z11=2 \n",
       " time n.risk n.event survival std.err lower 95% CI upper 95% CI\n",
       "    4     18       1    0.944  0.0540        0.844        1.000\n",
       "    5     17       1    0.889  0.0741        0.755        1.000\n",
       "    8     15       1    0.830  0.0898        0.671        1.000\n",
       "   10     14       1    0.770  0.1010        0.596        0.996\n",
       "   11     12       1    0.706  0.1112        0.519        0.961\n",
       "   12     11       1    0.642  0.1181        0.448        0.921\n",
       "   13      9       1    0.571  0.1247        0.372        0.876\n",
       "   19      6       1    0.476  0.1354        0.272        0.831\n",
       "   23      4       1    0.357  0.1446        0.161        0.790\n",
       "   28      3       1    0.238  0.1368        0.077        0.734\n",
       "\n",
       "                Z11=3 \n",
       " time n.risk n.event survival std.err lower 95% CI upper 95% CI\n",
       "    4     11       1    0.909  0.0867        0.754            1\n",
       "    9      6       1    0.758  0.1560        0.506            1\n",
       "\n",
       "                Z11=4 \n",
       " time n.risk n.event survival std.err lower 95% CI upper 95% CI\n",
       "    1    116       3   0.9741  0.0147      0.94568        1.000\n",
       "    2    113       2   0.9569  0.0189      0.92064        0.995\n",
       "    3    111       1   0.9483  0.0206      0.90882        0.989\n",
       "    4    110       3   0.9224  0.0248      0.87499        0.972\n",
       "    5    107       4   0.8879  0.0293      0.83234        0.947\n",
       "    6    102      15   0.7574  0.0399      0.68302        0.840\n",
       "    7     87       6   0.7051  0.0425      0.62659        0.794\n",
       "    8     79       5   0.6605  0.0442      0.57925        0.753\n",
       "    9     71       3   0.6326  0.0452      0.54991        0.728\n",
       "   10     66       3   0.6038  0.0461      0.51992        0.701\n",
       "   11     60       4   0.5636  0.0472      0.47824        0.664\n",
       "   12     53       4   0.5210  0.0482      0.43464        0.625\n",
       "   13     45       3   0.4863  0.0490      0.39918        0.592\n",
       "   14     40       3   0.4498  0.0496      0.36236        0.558\n",
       "   15     34       4   0.3969  0.0504      0.30953        0.509\n",
       "   16     28       2   0.3686  0.0506      0.28162        0.482\n",
       "   17     23       1   0.3525  0.0509      0.26570        0.468\n",
       "   18     21       4   0.2854  0.0511      0.20096        0.405\n",
       "   19     16       3   0.2319  0.0500      0.15199        0.354\n",
       "   21     11       1   0.2108  0.0497      0.13282        0.335\n",
       "   23     10       1   0.1897  0.0490      0.11438        0.315\n",
       "   24      8       2   0.1423  0.0468      0.07465        0.271\n",
       "   25      5       1   0.1138  0.0453      0.05219        0.248\n",
       "   29      4       1   0.0854  0.0420      0.03258        0.224\n",
       "   32      2       1   0.0427  0.0368      0.00789        0.231\n"
      ]
     },
     "metadata": {},
     "output_type": "display_data"
    }
   ],
   "source": [
    "#formula\n",
    "type.burn <- survfit(Surv(T1,D1)~Z11,data=burn)\n",
    "summary(type.burn)"
   ]
  },
  {
   "cell_type": "code",
   "execution_count": 7,
   "id": "8c01274d",
   "metadata": {},
   "outputs": [
    {
     "data": {
      "image/png": "[encoded data removed]",
      "text/plain": [
       "Plot with title \"paste(\"Kaplan-Meier Estimation \", hat(S)(t))\""
      ]
     },
     "metadata": {},
     "output_type": "display_data"
    }
   ],
   "source": [
    "#plot survival function from each type of burn\n",
    "plot(type.burn, lty = 2:2:2:2,\n",
    "     col=c(\"blue\",\"red\",\"orange\",\"green\"),\n",
    "     main=expression(paste(\"Kaplan-Meier Estimation \",  hat(S)(t))),\n",
    "     xlab=\"Survival Time (T)\", ylab=\"Survival Function S(t)\")\n",
    "legend(\"topright\", c(\"chemical\", \"scald\",\"electric\",\"flame\"),\n",
    "       col=c(\"blue\",\"red\",\"orange\",\"green\"), lty = 2:2:2:2)"
   ]
  },
  {
   "cell_type": "code",
   "execution_count": 8,
   "id": "43be8e5f",
   "metadata": {},
   "outputs": [
    {
     "data": {
      "image/png": "[encoded data removed]",
      "text/plain": [
       "Plot with title \"paste(\"Log Cumulative Hazard  \", Log(hat(h)(t)))\""
      ]
     },
     "metadata": {},
     "output_type": "display_data"
    }
   ],
   "source": [
    "#log cumulative hazard\n",
    "plot(type.burn, lty=2:2:2:2, fun=\"cloglog\",\n",
    "     main=expression(paste(\"Log Cumulative Hazard  \", Log(hat(h)(t)))),\n",
    "     xlab=\"Survival Time\", ylab=\"Hazard Rate H(t)\",\n",
    "     col=c(\"blue\",\"red\",\"orange\",\"green\"))\n",
    "legend(\"topleft\", lty=2:2:2:2,\n",
    "      legend=c(\"chemical\",\"scald\",\"electric\",\"flame\"),\n",
    "       bty=\"n\", col=c(\"blue\",\"red\",\"orange\",\"green\"))"
   ]
  },
  {
   "cell_type": "markdown",
   "id": "66f38fb1",
   "metadata": {},
   "source": [
    "The above plots shows graph of the survival curves and hazard rates are crossing for three categories of a predictor (scale, electric flame). If the curves cross, then one group has a higher risk at early time points and the other group has a higher risk at late time points. This could just be a coincidence of random sampling, and the PH assumption could still be valid. Thus, Tarone-Ware test and Gehan-Wilcoxon test will be conducted as an alternative test."
   ]
  },
  {
   "cell_type": "markdown",
   "id": "d60238f6",
   "metadata": {},
   "source": [
    "*Hypothesis*\n",
    "\n",
    "$H_0$: there is no relationship between each type of burn and the need for excision\n",
    "\n",
    "$H_1$: there is at least one of the type of burn that affected the need for excision\n",
    "\n",
    "\n",
    "The test statistic for equality of survival across the $k$ groups is approximately chi-square distributed on $k-1$ degrees of freedom."
   ]
  },
  {
   "cell_type": "code",
   "execution_count": 9,
   "id": "75bd08eb",
   "metadata": {},
   "outputs": [
    {
     "data": {
      "text/plain": [
       "Call:\n",
       "survdiff(formula = Surv(T1, D1) ~ Z11, data = burn, rho = (1/2))\n",
       "\n",
       "        N Observed Expected (O-E)^2/E (O-E)^2/V\n",
       "Z11=1   9     6.27     3.41     2.401      3.17\n",
       "Z11=2  18     7.38    11.82     1.668      2.62\n",
       "Z11=3  11     1.80     5.12     2.156      2.90\n",
       "Z11=4 116    63.73    58.83     0.408      2.06\n",
       "\n",
       " Chisq= 8.5  on 3 degrees of freedom, p= 0.04 "
      ]
     },
     "metadata": {},
     "output_type": "display_data"
    }
   ],
   "source": [
    "#Tarone-Ware test\n",
    "survdiff(Surv(T1,D1)~Z11,data=burn,rho=(1/2))"
   ]
  },
  {
   "cell_type": "code",
   "execution_count": 10,
   "id": "d757c04e",
   "metadata": {},
   "outputs": [
    {
     "data": {
      "text/plain": [
       "Call:\n",
       "survdiff(formula = Surv(T1, D1) ~ Z11, data = burn, rho = 1)\n",
       "\n",
       "        N Observed Expected (O-E)^2/E (O-E)^2/V\n",
       "Z11=1   9     5.70     2.86     2.826      4.12\n",
       "Z11=2  18     5.75     9.40     1.414      2.46\n",
       "Z11=3  11     1.62     4.31     1.675      2.48\n",
       "Z11=4 116    52.78    49.29     0.248      1.41\n",
       "\n",
       " Chisq= 8.7  on 3 degrees of freedom, p= 0.03 "
      ]
     },
     "metadata": {},
     "output_type": "display_data"
    }
   ],
   "source": [
    "#Gehan-Wilcoxon test\n",
    "survdiff(Surv(T1,D1)~Z11,data=burn,rho=1)"
   ]
  },
  {
   "cell_type": "markdown",
   "id": "96097f7d",
   "metadata": {},
   "source": [
    "In the Tarone-Ware test and Gehan-Wilcoxon test, we can see that those have p-values less than $\\alpha$ (0,04 < 0,05 and 0,03 < 0,05), so the null hypothesis is rejected. This indicates a relationship between each type of burn and the need for excision.\n",
    "We consider tied survival data based on Cox PH model. The standard approaches are the Breslow, Efron, and Exact approximations.\n",
    "Thus in the next case, we would like to measure how much impact of the type of burn on having an excision using Breslow method, Efron method, and Exact method."
   ]
  },
  {
   "cell_type": "markdown",
   "id": "7c269b41",
   "metadata": {},
   "source": [
    "#### PH Model\n",
    "\n",
    "$$h(t,x)= h_0(t) . exp(β_{1}Z_{11.1} + β_{2}Z_{11.2} + β_{3}Z_{11.3} + β_{4}Z_{11.4})$$\n",
    "\n",
    "* $h_0(t)$ is the baseline hazard and  a \"chemical burn\" ($Z_{11.1}$) is defined as the baseline condition"
   ]
  },
  {
   "cell_type": "code",
   "execution_count": 11,
   "id": "033e68d0",
   "metadata": {},
   "outputs": [
    {
     "data": {
      "text/plain": [
       "Call:\n",
       "coxph(formula = Surv(T1, D1) ~ as.factor(Z11), data = burn, method = \"breslow\")\n",
       "\n",
       "  n= 154, number of events= 99 \n",
       "\n",
       "                   coef exp(coef) se(coef)      z Pr(>|z|)  \n",
       "as.factor(Z11)2 -0.9681    0.3798   0.4957 -1.953   0.0508 .\n",
       "as.factor(Z11)3 -1.6627    0.1896   0.8029 -2.071   0.0384 *\n",
       "as.factor(Z11)4 -0.4105    0.6633   0.3957 -1.037   0.2996  \n",
       "---\n",
       "Signif. codes:  0 '***' 0.001 '**' 0.01 '*' 0.05 '.' 0.1 ' ' 1\n",
       "\n",
       "                exp(coef) exp(-coef) lower .95 upper .95\n",
       "as.factor(Z11)2    0.3798      2.633   0.14376    1.0034\n",
       "as.factor(Z11)3    0.1896      5.273   0.03931    0.9148\n",
       "as.factor(Z11)4    0.6633      1.508   0.30546    1.4406\n",
       "\n",
       "Concordance= 0.57  (se = 0.026 )\n",
       "Likelihood ratio test= 8.74  on 3 df,   p=0.03\n",
       "Wald test            = 7.09  on 3 df,   p=0.07\n",
       "Score (logrank) test = 7.66  on 3 df,   p=0.05\n"
      ]
     },
     "metadata": {},
     "output_type": "display_data"
    }
   ],
   "source": [
    "#Breslow method\n",
    "model1 <- coxph(Surv(T1,D1)~as.factor(Z11),data=burn,method=\"breslow\")\n",
    "summary(model1)"
   ]
  },
  {
   "cell_type": "markdown",
   "id": "595681f2",
   "metadata": {},
   "source": [
    "#### Interpretation\n",
    "\n",
    "1. Someone with a \"scald\" burn is 0,3798 times more likely to receive an excision compared to those who experiences a \"chemical\" burn\n",
    "2. Someone with an \"electric\" burn is 0,1896 times more likely to receive an excision compared to those who experiences a \"chemical\" burn\n",
    "3. Someone with a \"flame\" burn is 0,6633 times more likely to receive an excision compared to those who experiences a chemical burn\n",
    "4. According to the Breslow method, someone who experiences an **electric** burn has the **lowest risk** of receiving an excision treatment, and the **chemical** burn has the **highest risk**"
   ]
  },
  {
   "cell_type": "code",
   "execution_count": 14,
   "id": "4ab84925",
   "metadata": {},
   "outputs": [
    {
     "data": {
      "text/plain": [
       "Call:\n",
       "coxph(formula = Surv(T1, D1) ~ as.factor(Z11), data = burn, method = \"efron\")\n",
       "\n",
       "  n= 154, number of events= 99 \n",
       "\n",
       "                   coef exp(coef) se(coef)      z Pr(>|z|)  \n",
       "as.factor(Z11)2 -0.9820    0.3745   0.4956 -1.982   0.0475 *\n",
       "as.factor(Z11)3 -1.6872    0.1850   0.8029 -2.101   0.0356 *\n",
       "as.factor(Z11)4 -0.4070    0.6656   0.3957 -1.029   0.3037  \n",
       "---\n",
       "Signif. codes:  0 '***' 0.001 '**' 0.01 '*' 0.05 '.' 0.1 ' ' 1\n",
       "\n",
       "                exp(coef) exp(-coef) lower .95 upper .95\n",
       "as.factor(Z11)2    0.3745      2.670   0.14180    0.9893\n",
       "as.factor(Z11)3    0.1850      5.404   0.03836    0.8926\n",
       "as.factor(Z11)4    0.6656      1.502   0.30647    1.4456\n",
       "\n",
       "Concordance= 0.57  (se = 0.026 )\n",
       "Likelihood ratio test= 9.17  on 3 df,   p=0.03\n",
       "Wald test            = 7.38  on 3 df,   p=0.06\n",
       "Score (logrank) test = 8  on 3 df,   p=0.05\n"
      ]
     },
     "metadata": {},
     "output_type": "display_data"
    }
   ],
   "source": [
    "#Efron method\n",
    "model2 <- coxph(Surv(T1,D1)~as.factor(Z11),data=burn,method=\"efron\")\n",
    "summary(model2)"
   ]
  },
  {
   "cell_type": "markdown",
   "id": "52a595dc",
   "metadata": {},
   "source": [
    "#### Interpretation\n",
    "\n",
    "1. Someone with a \"scald\" burn is 0,3745 times more likely to receive an excision compared to those who experiences a \"chemical\" burn\n",
    "2. Someone with an \"electric\" burn is 0,185 times more likely to receive an excision compared to those who experiences a \"chemical\" burn\n",
    "3. Someone with a \"flame\" burn is 0,6656 times more likely to receive an excision compared to those who experiences a \"chemical\" burn\n",
    "4. According to the Efron method, someone who experiences an **electric** burn has the **lowest risk** of receiving an excision treatment, and the **chemical** burn has the **highest risk**"
   ]
  },
  {
   "cell_type": "code",
   "execution_count": 15,
   "id": "6a435ed7",
   "metadata": {},
   "outputs": [
    {
     "data": {
      "text/plain": [
       "Call:\n",
       "coxph(formula = Surv(T1, D1) ~ as.factor(Z11), data = burn, method = \"exact\")\n",
       "\n",
       "  n= 154, number of events= 99 \n",
       "\n",
       "                   coef exp(coef) se(coef)      z Pr(>|z|)  \n",
       "as.factor(Z11)2 -1.0312    0.3566   0.5144 -2.004   0.0450 *\n",
       "as.factor(Z11)3 -1.7418    0.1752   0.8174 -2.131   0.0331 *\n",
       "as.factor(Z11)4 -0.4449    0.6409   0.4152 -1.072   0.2839  \n",
       "---\n",
       "Signif. codes:  0 '***' 0.001 '**' 0.01 '*' 0.05 '.' 0.1 ' ' 1\n",
       "\n",
       "                exp(coef) exp(-coef) lower .95 upper .95\n",
       "as.factor(Z11)2    0.3566      2.804    0.1301    0.9774\n",
       "as.factor(Z11)3    0.1752      5.707    0.0353    0.8697\n",
       "as.factor(Z11)4    0.6409      1.560    0.2840    1.4461\n",
       "\n",
       "Concordance= 0.57  (se = 0.026 )\n",
       "Likelihood ratio test= 9.19  on 3 df,   p=0.03\n",
       "Wald test            = 7.49  on 3 df,   p=0.06\n",
       "Score (logrank) test = 8.12  on 3 df,   p=0.04\n"
      ]
     },
     "metadata": {},
     "output_type": "display_data"
    }
   ],
   "source": [
    "#Exact method\n",
    "model3 <- coxph(Surv(T1,D1)~as.factor(Z11),data=burn,method=\"exact\")\n",
    "summary(model3)"
   ]
  },
  {
   "cell_type": "markdown",
   "id": "bdfe35a6",
   "metadata": {},
   "source": [
    "#### Interpretation\n",
    "\n",
    "1. Someone with a \"scald\" burn is 0,3566 times more likely to receive an excision compared to those who experiences a \"chemical\" burn\n",
    "2. Someone with an \"electric\" burn is 0,1752 times more likely to receive an excision compared to those who experiences a \"chemical\" burn\n",
    "3. Someone with a \"flame\" burn is 0,6409 times more likely to receive an excision compared to those who experiences a chemical burn\n",
    "4. According to the Exact method, someone who experiences an **electric** burn has the **lowest risk** of receiving an excision treatment, and the **chemical** burn has the **highest risk**"
   ]
  },
  {
   "cell_type": "code",
   "execution_count": 17,
   "id": "9c623ea8",
   "metadata": {},
   "outputs": [
    {
     "data": {
      "text/html": [
       "843.966800750617"
      ],
      "text/latex": [
       "843.966800750617"
      ],
      "text/markdown": [
       "843.966800750617"
      ],
      "text/plain": [
       "[1] 843.9668"
      ]
     },
     "metadata": {},
     "output_type": "display_data"
    }
   ],
   "source": [
    "#Finding the best model based on lowest AIC\n",
    "AIC(model1)"
   ]
  },
  {
   "cell_type": "code",
   "execution_count": 18,
   "id": "0503cad0",
   "metadata": {},
   "outputs": [
    {
     "data": {
      "text/html": [
       "837.793919063934"
      ],
      "text/latex": [
       "837.793919063934"
      ],
      "text/markdown": [
       "837.793919063934"
      ],
      "text/plain": [
       "[1] 837.7939"
      ]
     },
     "metadata": {},
     "output_type": "display_data"
    }
   ],
   "source": [
    "AIC(model2)"
   ]
  },
  {
   "cell_type": "code",
   "execution_count": 19,
   "id": "e1a81a4e",
   "metadata": {},
   "outputs": [
    {
     "data": {
      "text/html": [
       "646.320554211785"
      ],
      "text/latex": [
       "646.320554211785"
      ],
      "text/markdown": [
       "646.320554211785"
      ],
      "text/plain": [
       "[1] 646.3206"
      ]
     },
     "metadata": {},
     "output_type": "display_data"
    }
   ],
   "source": [
    "AIC(model3)"
   ]
  },
  {
   "cell_type": "markdown",
   "id": "5ef682cc",
   "metadata": {},
   "source": [
    "### Conclusion\n",
    "\n",
    "According to the three methods above, it is obtained that the burn type with the highest risk of receiving an excision treatment is chemical, and the burn type with the lowest risk of receiving an excision treatment is electric.\n",
    "\n",
    "The best PH model is:\n",
    "\n",
    "$$h(t,x)= h_0(t) . exp(-1,03 Z_{11.2} -1,74 Z_{11.3} - 0,44 Z_{11.4})$$"
   ]
  }
 ],
 "metadata": {
  "kernelspec": {
   "display_name": "R",
   "language": "R",
   "name": "ir"
  },
  "language_info": {
   "codemirror_mode": "r",
   "file_extension": ".r",
   "mimetype": "text/x-r-source",
   "name": "R",
   "pygments_lexer": "r",
   "version": "3.6.1"
  }
 },
 "nbformat": 4,
 "nbformat_minor": 5
}
